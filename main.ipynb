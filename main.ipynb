{
 "cells": [
  {
   "cell_type": "markdown",
   "metadata": {},
   "source": [
    "# Notebook for conducting the PLP study\n",
    "Patient-Level Prediction (PLP) is a methodology used in healthcare and clinical research, especially within the OMOP Common Data Model (CDM) ecosystem and the Observational Health Data Sciences and Informatics (OHDSI) initiative. The purpose of PLP is to develop and validate predictive models that can anticipate specific clinical events for individual patients based on their medical history and other relevant data."
   ]
  },
  {
   "cell_type": "markdown",
   "metadata": {},
   "source": [
    "### Import libraries"
   ]
  },
  {
   "cell_type": "code",
   "execution_count": 9,
   "metadata": {},
   "outputs": [],
   "source": [
    "import pandas as pd\n",
    "from sklearn.ensemble import RandomForestClassifier\n",
    "from sklearn.linear_model import LogisticRegression\n",
    "from sklearn.svm import SVC\n",
    "from src import peticiones, plp, cohortes, miscelania, usoBBDD"
   ]
  },
  {
   "cell_type": "markdown",
   "metadata": {},
   "source": [
    "### Import DataSet Synthea\n",
    "\n",
    "Downloads the Dataset in the directory defined in *save_path*"
   ]
  },
  {
   "cell_type": "code",
   "execution_count": 10,
   "metadata": {},
   "outputs": [
    {
     "name": "stdout",
     "output_type": "stream",
     "text": [
      "Descargando ZIP desde https://github.com/OHDSI/EunomiaDatasets/archive/refs/heads/main.zip...\n"
     ]
    }
   ],
   "source": [
    "save_path = \"./data\"  # Ruta en la que se descargará\n",
    "peticiones.loadSynthea(save_path)"
   ]
  },
  {
   "cell_type": "markdown",
   "metadata": {},
   "source": [
    "### Create DataSet from Synthea's CSV files\n",
    "\n",
    "From the directory defined in *save_path* it will be created a DB with DuckDB at the directory defined in *db_path*"
   ]
  },
  {
   "cell_type": "code",
   "execution_count": 5,
   "metadata": {},
   "outputs": [
    {
     "name": "stdout",
     "output_type": "stream",
     "text": [
      "Tabla CARE_SITE creada a partir de CARE_SITE.csv\n",
      "Tabla CDM_SOURCE creada a partir de CDM_SOURCE.csv\n",
      "Tabla COHORT creada a partir de COHORT.csv\n",
      "Tabla COHORT_DEFINITION creada a partir de COHORT_DEFINITION.csv\n",
      "Tabla CONCEPT creada a partir de CONCEPT.csv\n",
      "Tabla CONCEPT_ANCESTOR creada a partir de CONCEPT_ANCESTOR.csv\n",
      "Tabla CONCEPT_CLASS creada a partir de CONCEPT_CLASS.csv\n",
      "Tabla CONCEPT_RELATIONSHIP creada a partir de CONCEPT_RELATIONSHIP.csv\n",
      "Tabla CONCEPT_SYNONYM creada a partir de CONCEPT_SYNONYM.csv\n",
      "Tabla CONDITION_ERA creada a partir de CONDITION_ERA.csv\n",
      "Tabla CONDITION_OCCURRENCE creada a partir de CONDITION_OCCURRENCE.csv\n",
      "Tabla COST creada a partir de COST.csv\n",
      "Tabla DEATH creada a partir de DEATH.csv\n",
      "Tabla DEVICE_EXPOSURE creada a partir de DEVICE_EXPOSURE.csv\n",
      "Tabla DOMAIN creada a partir de DOMAIN.csv\n",
      "Tabla DOSE_ERA creada a partir de DOSE_ERA.csv\n",
      "Tabla DRUG_ERA creada a partir de DRUG_ERA.csv\n",
      "Tabla DRUG_EXPOSURE creada a partir de DRUG_EXPOSURE.csv\n",
      "Tabla DRUG_STRENGTH creada a partir de DRUG_STRENGTH.csv\n",
      "Tabla EPISODE creada a partir de EPISODE.csv\n",
      "Tabla EPISODE_EVENT creada a partir de EPISODE_EVENT.csv\n",
      "Tabla FACT_RELATIONSHIP creada a partir de FACT_RELATIONSHIP.csv\n",
      "Tabla LOCATION creada a partir de LOCATION.csv\n",
      "Tabla MEASUREMENT creada a partir de MEASUREMENT.csv\n",
      "Tabla METADATA creada a partir de METADATA.csv\n",
      "Tabla NOTE creada a partir de NOTE.csv\n",
      "Tabla NOTE_NLP creada a partir de NOTE_NLP.csv\n",
      "Tabla OBSERVATION creada a partir de OBSERVATION.csv\n",
      "Tabla OBSERVATION_PERIOD creada a partir de OBSERVATION_PERIOD.csv\n",
      "Tabla PAYER_PLAN_PERIOD creada a partir de PAYER_PLAN_PERIOD.csv\n",
      "Tabla PERSON creada a partir de PERSON.csv\n",
      "Tabla PROCEDURE_OCCURRENCE creada a partir de PROCEDURE_OCCURRENCE.csv\n",
      "Tabla PROVIDER creada a partir de PROVIDER.csv\n",
      "Tabla RELATIONSHIP creada a partir de RELATIONSHIP.csv\n",
      "Tabla SOURCE_TO_CONCEPT_MAP creada a partir de SOURCE_TO_CONCEPT_MAP.csv\n",
      "Tabla SPECIMEN creada a partir de SPECIMEN.csv\n",
      "Tabla VISIT_DETAIL creada a partir de VISIT_DETAIL.csv\n",
      "Tabla VISIT_OCCURRENCE creada a partir de VISIT_OCCURRENCE.csv\n",
      "Tabla VOCABULARY creada a partir de VOCABULARY.csv\n",
      "Base de datos creada en ./data/Synthea_BBDD\n"
     ]
    }
   ],
   "source": [
    "csv_folder = save_path + '/Synthea27Nj'\n",
    "db_path = save_path + '/Synthea_BBDD'\n",
    "usoBBDD.crear_bbdd_desde_csv(csv_folder, db_path)"
   ]
  },
  {
   "cell_type": "markdown",
   "metadata": {},
   "source": [
    "## Create cohorts and export to pandas DataFrame\n",
    "3 cohorts are created:\n",
    "\n",
    "### 1.- Target Cohort (Cohort of Interest):\n",
    "\n",
    "This is the group of patients who will be studied or for whom the prediction will be made. This group is defined by a set of conditions or characteristics.\n",
    "For example, you could have a cohort of people who are over 30 years old and have been diagnosed with diabetes.\n",
    "\n",
    "### 2.- Outcome Cohort:\n",
    "\n",
    "This is the clinical event you are trying to predict in the patients in the Target group. For example, whether a patient will be readmitted to the hospital within 30 days after discharge, or will develop a disease in the future.\n",
    "The “outcome” is binary in many cases (occurs or does not occur), but there may be different types of outcomes depending on the clinical problem.\n",
    "\n",
    "### 3.- Predictive Features:\n",
    "\n",
    "These are the patient characteristics (demographics, treatments, diagnoses, procedures, etc.) that are used to build the prediction model. These data are obtained from the patient's medical history and other relevant sources, such as sociodemographic information, previous procedures, drug exposures, etc.\n",
    "In PLP, these features are extracted directly from the OMOP database.\n",
    "\n",
    "### 4.- Cohort to pandas DF\n",
    "\n",
    "Every function returns a pandas DF "
   ]
  },
  {
   "cell_type": "code",
   "execution_count": 8,
   "metadata": {},
   "outputs": [
    {
     "ename": "ConnectionException",
     "evalue": "Connection Error: Can't open a connection to same database file with a different configuration than existing connections",
     "output_type": "error",
     "traceback": [
      "\u001b[1;31m---------------------------------------------------------------------------\u001b[0m",
      "\u001b[1;31mConnectionException\u001b[0m                       Traceback (most recent call last)",
      "Cell \u001b[1;32mIn[8], line 5\u001b[0m\n\u001b[0;32m      3\u001b[0m target_conditions \u001b[38;5;241m=\u001b[39m [\u001b[38;5;124m'\u001b[39m\u001b[38;5;124mperson.year_of_birth < 1990\u001b[39m\u001b[38;5;124m'\u001b[39m]  \u001b[38;5;66;03m# Ejemplo: personas mayores de 30 años\u001b[39;00m\n\u001b[0;32m      4\u001b[0m cohort_name \u001b[38;5;241m=\u001b[39m \u001b[38;5;124m'\u001b[39m\u001b[38;5;124mcohorte_1\u001b[39m\u001b[38;5;124m'\u001b[39m\n\u001b[1;32m----> 5\u001b[0m cohorte_1 \u001b[38;5;241m=\u001b[39m \u001b[43mcohortes\u001b[49m\u001b[38;5;241;43m.\u001b[39;49m\u001b[43mcreate_cohort\u001b[49m\u001b[43m(\u001b[49m\u001b[43mdb_path\u001b[49m\u001b[43m \u001b[49m\u001b[38;5;241;43m=\u001b[39;49m\u001b[43m \u001b[49m\u001b[43mdb_path\u001b[49m\u001b[43m,\u001b[49m\u001b[43m \u001b[49m\u001b[43mtables\u001b[49m\u001b[43m \u001b[49m\u001b[38;5;241;43m=\u001b[39;49m\u001b[43m \u001b[49m\u001b[43mtarget_tables\u001b[49m\u001b[43m,\u001b[49m\u001b[43m \u001b[49m\u001b[43mwhere_conditions\u001b[49m\u001b[43m \u001b[49m\u001b[38;5;241;43m=\u001b[39;49m\u001b[43m \u001b[49m\u001b[43mtarget_conditions\u001b[49m\u001b[43m,\u001b[49m\u001b[43m \u001b[49m\u001b[43mcohort_name\u001b[49m\u001b[38;5;241;43m=\u001b[39;49m\u001b[43mcohort_name\u001b[49m\u001b[43m)\u001b[49m\n\u001b[0;32m      8\u001b[0m \u001b[38;5;28mprint\u001b[39m(\u001b[38;5;124m'\u001b[39m\u001b[38;5;124m==============================\u001b[39m\u001b[38;5;124m'\u001b[39m)\n\u001b[0;32m      9\u001b[0m \u001b[38;5;28mprint\u001b[39m(\u001b[38;5;124m'\u001b[39m\u001b[38;5;124m          COHORTE 1\u001b[39m\u001b[38;5;124m'\u001b[39m)\n",
      "File \u001b[1;32md:\\Documentos\\IRyCIS\\EATRIS-CONNECT\\OMOP\\ModelPLP\\src\\cohortes.py:18\u001b[0m, in \u001b[0;36mcreate_cohort\u001b[1;34m(db_path, tables, where_conditions, cohort_name)\u001b[0m\n\u001b[0;32m     15\u001b[0m con \u001b[38;5;241m=\u001b[39m duckdb\u001b[38;5;241m.\u001b[39mconnect(database\u001b[38;5;241m=\u001b[39mdb_path, read_only\u001b[38;5;241m=\u001b[39m\u001b[38;5;28;01mFalse\u001b[39;00m)\n\u001b[0;32m     17\u001b[0m \u001b[38;5;66;03m# Generar las condiciones de JOIN basadas en los atributos comunes (como \"person_id\")\u001b[39;00m\n\u001b[1;32m---> 18\u001b[0m joins_clause \u001b[38;5;241m=\u001b[39m \u001b[43musoBBDD\u001b[49m\u001b[38;5;241;43m.\u001b[39;49m\u001b[43mgenerar_joins\u001b[49m\u001b[43m(\u001b[49m\u001b[43mdb_path\u001b[49m\u001b[43m,\u001b[49m\u001b[43m \u001b[49m\u001b[43mtables\u001b[49m\u001b[43m)\u001b[49m\n\u001b[0;32m     20\u001b[0m \u001b[38;5;66;03m# Crear la cláusula de combinación de tablas\u001b[39;00m\n\u001b[0;32m     21\u001b[0m \u001b[38;5;28;01mif\u001b[39;00m \u001b[38;5;28mlen\u001b[39m(tables) \u001b[38;5;241m>\u001b[39m \u001b[38;5;241m1\u001b[39m:\n",
      "File \u001b[1;32mD:\\Documentos\\IRyCIS\\EATRIS-CONNECT\\OMOP\\ModelPLP\\src\\usoBBDD.py:213\u001b[0m, in \u001b[0;36mgenerar_joins\u001b[1;34m(db_path, tablas)\u001b[0m\n\u001b[0;32m    211\u001b[0m \u001b[38;5;66;03m# Obtener las columnas para cada tabla y filtrar las columnas id\u001b[39;00m\n\u001b[0;32m    212\u001b[0m \u001b[38;5;28;01mfor\u001b[39;00m tabla \u001b[38;5;129;01min\u001b[39;00m tablas:\n\u001b[1;32m--> 213\u001b[0m     columnas \u001b[38;5;241m=\u001b[39m \u001b[43mobtener_columnas\u001b[49m\u001b[43m(\u001b[49m\u001b[43mdb_path\u001b[49m\u001b[43m,\u001b[49m\u001b[43m \u001b[49m\u001b[43mtabla\u001b[49m\u001b[43m)\u001b[49m\n\u001b[0;32m    214\u001b[0m     columnas_id \u001b[38;5;241m=\u001b[39m identificar_columnas_id(columnas)\n\u001b[0;32m    215\u001b[0m     columnas_por_tabla[tabla] \u001b[38;5;241m=\u001b[39m columnas_id\n",
      "File \u001b[1;32mD:\\Documentos\\IRyCIS\\EATRIS-CONNECT\\OMOP\\ModelPLP\\src\\usoBBDD.py:185\u001b[0m, in \u001b[0;36mobtener_columnas\u001b[1;34m(db_path, tabla)\u001b[0m\n\u001b[0;32m    177\u001b[0m \u001b[38;5;28;01mdef\u001b[39;00m \u001b[38;5;21mobtener_columnas\u001b[39m(db_path, tabla):\n\u001b[0;32m    178\u001b[0m \u001b[38;5;250m    \u001b[39m\u001b[38;5;124;03m\"\"\"\u001b[39;00m\n\u001b[0;32m    179\u001b[0m \u001b[38;5;124;03m    Obtiene todas las columnas de una tabla de la base de datos.\u001b[39;00m\n\u001b[0;32m    180\u001b[0m \u001b[38;5;124;03m    \u001b[39;00m\n\u001b[1;32m   (...)\u001b[0m\n\u001b[0;32m    183\u001b[0m \u001b[38;5;124;03m    :return: Lista de nombres de columnas de la tabla.\u001b[39;00m\n\u001b[0;32m    184\u001b[0m \u001b[38;5;124;03m    \"\"\"\u001b[39;00m\n\u001b[1;32m--> 185\u001b[0m     con \u001b[38;5;241m=\u001b[39m \u001b[43mduckdb\u001b[49m\u001b[38;5;241;43m.\u001b[39;49m\u001b[43mconnect\u001b[49m\u001b[43m(\u001b[49m\u001b[43mdatabase\u001b[49m\u001b[38;5;241;43m=\u001b[39;49m\u001b[43mdb_path\u001b[49m\u001b[43m,\u001b[49m\u001b[43m \u001b[49m\u001b[43mread_only\u001b[49m\u001b[38;5;241;43m=\u001b[39;49m\u001b[38;5;28;43;01mTrue\u001b[39;49;00m\u001b[43m)\u001b[49m\n\u001b[0;32m    186\u001b[0m     query \u001b[38;5;241m=\u001b[39m \u001b[38;5;124mf\u001b[39m\u001b[38;5;124m\"\u001b[39m\u001b[38;5;124mDESCRIBE \u001b[39m\u001b[38;5;132;01m{\u001b[39;00mtabla\u001b[38;5;132;01m}\u001b[39;00m\u001b[38;5;124m;\u001b[39m\u001b[38;5;124m\"\u001b[39m\n\u001b[0;32m    187\u001b[0m     columnas_df \u001b[38;5;241m=\u001b[39m con\u001b[38;5;241m.\u001b[39mexecute(query)\u001b[38;5;241m.\u001b[39mdf()\n",
      "\u001b[1;31mConnectionException\u001b[0m: Connection Error: Can't open a connection to same database file with a different configuration than existing connections"
     ]
    }
   ],
   "source": [
    "# Parámetros para la cohorte target\n",
    "target_tables = ['person', 'VISIT_DETAIL']\n",
    "target_conditions = ['person.year_of_birth < 1990']  # Ejemplo: personas mayores de 30 años\n",
    "cohort_name = 'cohorte_1'\n",
    "cohorte_1 = cohortes.create_cohort(db_path = db_path, tables = target_tables, where_conditions = target_conditions, cohort_name=cohort_name)\n",
    "\n",
    "\n",
    "print('==============================')\n",
    "print('          COHORTE 1')\n",
    "print('==============================')\n",
    "print(cohorte_1.head)\n",
    "\n",
    "# Parámetros para la cohorte outcome\n",
    "outcome_tables = ['person', 'CONDITION_ERA', 'CONCEPT']\n",
    "outcome_conditions = ['CONCEPT.concept_name = \\'Acute viral pharyngitis\\'']  # Ejemplo: pacientes con Acute viral pharyngitis\n",
    "cohort_target_name = 'cohorte_target'\n",
    "cohort_out_name = 'cohorte_outcome'\n",
    "                                               \n",
    "target_cohort_df, outcome_cohort_df = cohortes.create_target_outcome_cohorts(db_path=db_path, target_tables=target_tables, target_conditions=target_conditions, outcome_tables = outcome_tables, outcome_conditions= outcome_conditions, \n",
    "                                                                             target_cohort_name = cohort_target_name, outcome_cohort_name=cohort_out_name)\n",
    "print('==============================')\n",
    "print('          COHORTE TARGET')\n",
    "print('==============================')\n",
    "print(target_cohort_df.head)\n",
    "\n",
    "print('==============================')\n",
    "print('          COHORTE OUTCOME')\n",
    "print('==============================')\n",
    "print(outcome_cohort_df.head)\n",
    "\n",
    "\n",
    "# Parámetros para las características predictorias\n",
    "feature_tables = ['person', 'VISIT_DETAIL', 'DRUG_EXPOSURE']\n",
    "feature_conditions = ['VISIT_DETAIL.visit_detail_start_date BETWEEN \\'2019-01-01\\' AND \\'2023-01-01\\'']\n",
    "\n",
    "# Definir tabla de outcome (target) y condiciones\n",
    "target_table = 'CONDITION_ERA'\n",
    "target_condition = 'CONDITION_ERA.condition_concept_id = 201826'  # Ejemplo: Diabetes Milletius de tipo 2\n",
    "predictive_features_name = 'predictive_features'\n",
    "\n",
    "print('===============================================')\n",
    "print('          COHORTE PREDICTIVE FEATURES          ')\n",
    "print('===============================================')\n",
    "\n",
    "predictive_features = cohortes.extract_predictive_features_with_target(db_path=db_path, tables=feature_tables, feature_columns=feature_conditions, target_table=target_table, target_condition=target_condition, cohort_name=predictive_features_name)"
   ]
  }
 ],
 "metadata": {
  "kernelspec": {
   "display_name": ".venv",
   "language": "python",
   "name": "python3"
  },
  "language_info": {
   "codemirror_mode": {
    "name": "ipython",
    "version": 3
   },
   "file_extension": ".py",
   "mimetype": "text/x-python",
   "name": "python",
   "nbconvert_exporter": "python",
   "pygments_lexer": "ipython3",
   "version": "3.10.9"
  }
 },
 "nbformat": 4,
 "nbformat_minor": 2
}
