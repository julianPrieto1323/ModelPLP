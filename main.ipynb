{
 "cells": [
  {
   "cell_type": "markdown",
   "metadata": {},
   "source": [
    "# Notebook for conducting the PLP study\n",
    "Patient-Level Prediction (PLP) is a methodology used in healthcare and clinical research, especially within the OMOP Common Data Model (CDM) ecosystem and the Observational Health Data Sciences and Informatics (OHDSI) initiative. The purpose of PLP is to develop and validate predictive models that can anticipate specific clinical events for individual patients based on their medical history and other relevant data."
   ]
  },
  {
   "cell_type": "markdown",
   "metadata": {},
   "source": [
    "### Import libraries"
   ]
  },
  {
   "cell_type": "code",
   "execution_count": 1,
   "metadata": {},
   "outputs": [],
   "source": [
    "import pandas as pd\n",
    "from sklearn.ensemble import RandomForestClassifier\n",
    "from sklearn.linear_model import LogisticRegression\n",
    "from sklearn.svm import SVC\n",
    "from src import peticiones, plp, cohortes, miscelania"
   ]
  },
  {
   "cell_type": "markdown",
   "metadata": {},
   "source": [
    "## Create cohorts and PLP study\n",
    "3 cohorts are created:\n",
    "\n",
    "### 1.- Target Cohort (Cohort of Interest):\n",
    "\n",
    "This is the group of patients who will be studied or for whom the prediction will be made. This group is defined by a set of conditions or characteristics.\n",
    "For example, you could have a cohort of people who are over 30 years old and have been diagnosed with diabetes.\n",
    "\n",
    "### Outcome Cohort:\n",
    "\n",
    "This is the clinical event you are trying to predict in the patients in the Target group. For example, whether a patient will be readmitted to the hospital within 30 days after discharge, or will develop a disease in the future.\n",
    "The “outcome” is binary in many cases (occurs or does not occur), but there may be different types of outcomes depending on the clinical problem.\n",
    "\n",
    "### Predictive Features:\n",
    "\n",
    "These are the patient characteristics (demographics, treatments, diagnoses, procedures, etc.) that are used to build the prediction model. These data are obtained from the patient's medical history and other relevant sources, such as sociodemographic information, previous procedures, drug exposures, etc.\n",
    "In PLP, these features are extracted directly from the OMOP database.\n",
    "\n",
    "### Predictive Model:\n",
    "\n",
    "The predictive model is the algorithm that attempts to learn a relationship between the predictor variables and the outcome. The most common algorithms in PLP include logistic regression models, decision trees, random forest, neural networks, among others.\n",
    "The model is trained using a historical cohort data set and then validated on a validation cohort data set to evaluate its performance.\n",
    "\n",
    "### Model Validation:\n",
    "\n",
    "Once the model has been trained, an evaluation is performed on an independent dataset to measure its performance. The most commonly used metrics in PLP include:\n",
    "AUC-ROC (Area Under the Receiver Operating Characteristic Curve): measures the model's ability to distinguish between different outcomes.\n",
    "Accuracy, Sensitivity, Specificity: evaluate how well the model predicts the expected outcomes.\n",
    "F1-score: measures the balance between accuracy and sensitivity."
   ]
  },
  {
   "cell_type": "code",
   "execution_count": null,
   "metadata": {},
   "outputs": [],
   "source": [
    "# Parámetros de ejemplo\n",
    "db_path = 'data/Eunomia/synthea27nj_5.4_bbdd'\n",
    "\n",
    "#peticiones.crear_bbdd_desde_csv('data/Eunomia/Synthea27Nj_5.4', 'data/Eunomia/Synthea27Nj_5.4_BBDD')\n",
    "\n",
    "# Parámetros para la cohorte target\n",
    "target_tables = ['person', 'VISIT_DETAIL']\n",
    "target_join_columns = ['person.person_id = VISIT_DETAIL.person_id']\n",
    "target_conditions = ['person.year_of_birth < 1990']  # Ejemplo: personas mayores de 30 años\n",
    "\n",
    "# Parámetros para la cohorte outcome\n",
    "outcome_tables = ['person', 'CONDITION_ERA', 'CONCEPT']\n",
    "outcome_join_columns = ['person.person_id = CONDITION_ERA.person_id', 'CONDITION_ERA.condition_concept_id = CONCEPT.concept_id']\n",
    "outcome_conditions = ['CONCEPT.concept_name = \\'Acute viral pharyngitis\\'']  # Ejemplo: pacientes con Acute viral pharyngitis\n",
    "\n",
    "# Parámetros para las características predictorias\n",
    "feature_tables = ['person', 'VISIT_DETAIL', 'DRUG_EXPOSURE']\n",
    "feature_join_columns = [\n",
    "    'person.person_id = VISIT_DETAIL.person_id',\n",
    "    'person.person_id = DRUG_EXPOSURE.person_id'\n",
    "]\n",
    "feature_conditions = ['VISIT_DETAIL.visit_detail_start_date BETWEEN \\'2019-01-01\\' AND \\'2023-01-01\\'']\n",
    "feature_columns = ['person.person_id', 'person.year_of_birth', 'VISIT_DETAIL.visit_detail_start_date', 'DRUG_EXPOSURE.drug_concept_id']\n",
    "\n",
    "# Definir tabla de outcome (target) y condiciones\n",
    "target_table = 'CONDITION_ERA'\n",
    "target_join_column = 'person.person_id = CONDITION_ERA.person_id'\n",
    "target_condition = 'CONDITION_ERA.condition_concept_id = 201826'  # Ejemplo: Diabetes Milletius de tipo 2\n",
    "\n",
    "# Ejecutar el PLP\n",
    "results = plp.run_plp_with_algorithms(db_path, target_tables, target_join_columns, target_conditions, outcome_tables, outcome_join_columns, outcome_conditions, \n",
    "                                  feature_tables, feature_join_columns, feature_conditions, feature_columns, target_table, target_join_column, target_condition)"
   ]
  },
  {
   "cell_type": "code",
   "execution_count": null,
   "metadata": {},
   "outputs": [],
   "source": [
    "miscelania.print_study_summary(feature_columns, target_condition, results)"
   ]
  }
 ],
 "metadata": {
  "kernelspec": {
   "display_name": ".venv",
   "language": "python",
   "name": "python3"
  },
  "language_info": {
   "codemirror_mode": {
    "name": "ipython",
    "version": 3
   },
   "file_extension": ".py",
   "mimetype": "text/x-python",
   "name": "python",
   "nbconvert_exporter": "python",
   "pygments_lexer": "ipython3",
   "version": "3.10.9"
  }
 },
 "nbformat": 4,
 "nbformat_minor": 2
}
