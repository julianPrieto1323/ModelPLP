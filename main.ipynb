{
 "cells": [
  {
   "cell_type": "markdown",
   "metadata": {},
   "source": [
    "# Notebook for conducting the PLP study\n",
    "Patient-Level Prediction (PLP) is a methodology used in healthcare and clinical research, especially within the OMOP Common Data Model (CDM) ecosystem and the Observational Health Data Sciences and Informatics (OHDSI) initiative. The purpose of PLP is to develop and validate predictive models that can anticipate specific clinical events for individual patients based on their medical history and other relevant data."
   ]
  },
  {
   "cell_type": "markdown",
   "metadata": {},
   "source": [
    "### Import libraries"
   ]
  },
  {
   "cell_type": "code",
   "execution_count": 3,
   "metadata": {},
   "outputs": [],
   "source": [
    "import pandas as pd\n",
    "from sklearn.ensemble import RandomForestClassifier\n",
    "from sklearn.linear_model import LogisticRegression\n",
    "from sklearn.svm import SVC\n",
    "from src import peticiones, plp, cohortes, miscelania"
   ]
  },
  {
   "cell_type": "markdown",
   "metadata": {},
   "source": [
    "### Import DataSet Synthea\n",
    "\n",
    "Downloads the Dataset in the directory defined in *save_path*"
   ]
  },
  {
   "cell_type": "code",
   "execution_count": 4,
   "metadata": {},
   "outputs": [
    {
     "name": "stdout",
     "output_type": "stream",
     "text": [
      "Descargando ZIP desde https://github.com/OHDSI/EunomiaDatasets/archive/refs/heads/main.zip...\n",
      "Zip path ./data\\temp_repo\\repo.zip\n",
      "ZIP descargado correctamente. Descomprimiendo en ./data\\temp_repo...\n",
      "Carpeta Synthea27Nj movida a ./data\\Synthea27Nj\n",
      "Carpetas temporales y archivo ZIP eliminados.\n"
     ]
    }
   ],
   "source": [
    "save_path = \"./data\"  # Ruta en la que se descargará\n",
    "peticiones.loadSynthea(save_path)"
   ]
  },
  {
   "cell_type": "markdown",
   "metadata": {},
   "source": [
    "### Create DataSet from Synthea's CSV files\n",
    "\n",
    "From the directory defined in *save_path* it will be created a DB with DuckDB at the directory defined in *db_path*"
   ]
  },
  {
   "cell_type": "code",
   "execution_count": 5,
   "metadata": {},
   "outputs": [
    {
     "name": "stdout",
     "output_type": "stream",
     "text": [
      "Tabla CARE_SITE creada a partir de CARE_SITE.csv\n",
      "Tabla CDM_SOURCE creada a partir de CDM_SOURCE.csv\n",
      "Tabla COHORT creada a partir de COHORT.csv\n",
      "Tabla COHORT_DEFINITION creada a partir de COHORT_DEFINITION.csv\n",
      "Tabla CONCEPT creada a partir de CONCEPT.csv\n",
      "Tabla CONCEPT_ANCESTOR creada a partir de CONCEPT_ANCESTOR.csv\n",
      "Tabla CONCEPT_CLASS creada a partir de CONCEPT_CLASS.csv\n",
      "Tabla CONCEPT_RELATIONSHIP creada a partir de CONCEPT_RELATIONSHIP.csv\n",
      "Tabla CONCEPT_SYNONYM creada a partir de CONCEPT_SYNONYM.csv\n",
      "Tabla CONDITION_ERA creada a partir de CONDITION_ERA.csv\n",
      "Tabla CONDITION_OCCURRENCE creada a partir de CONDITION_OCCURRENCE.csv\n",
      "Tabla COST creada a partir de COST.csv\n",
      "Tabla DEATH creada a partir de DEATH.csv\n",
      "Tabla DEVICE_EXPOSURE creada a partir de DEVICE_EXPOSURE.csv\n",
      "Tabla DOMAIN creada a partir de DOMAIN.csv\n",
      "Tabla DOSE_ERA creada a partir de DOSE_ERA.csv\n",
      "Tabla DRUG_ERA creada a partir de DRUG_ERA.csv\n",
      "Tabla DRUG_EXPOSURE creada a partir de DRUG_EXPOSURE.csv\n",
      "Tabla DRUG_STRENGTH creada a partir de DRUG_STRENGTH.csv\n",
      "Tabla EPISODE creada a partir de EPISODE.csv\n",
      "Tabla EPISODE_EVENT creada a partir de EPISODE_EVENT.csv\n",
      "Tabla FACT_RELATIONSHIP creada a partir de FACT_RELATIONSHIP.csv\n",
      "Tabla LOCATION creada a partir de LOCATION.csv\n",
      "Tabla MEASUREMENT creada a partir de MEASUREMENT.csv\n",
      "Tabla METADATA creada a partir de METADATA.csv\n",
      "Tabla NOTE creada a partir de NOTE.csv\n",
      "Tabla NOTE_NLP creada a partir de NOTE_NLP.csv\n",
      "Tabla OBSERVATION creada a partir de OBSERVATION.csv\n",
      "Tabla OBSERVATION_PERIOD creada a partir de OBSERVATION_PERIOD.csv\n",
      "Tabla PAYER_PLAN_PERIOD creada a partir de PAYER_PLAN_PERIOD.csv\n",
      "Tabla PERSON creada a partir de PERSON.csv\n",
      "Tabla PROCEDURE_OCCURRENCE creada a partir de PROCEDURE_OCCURRENCE.csv\n",
      "Tabla PROVIDER creada a partir de PROVIDER.csv\n",
      "Tabla RELATIONSHIP creada a partir de RELATIONSHIP.csv\n",
      "Tabla SOURCE_TO_CONCEPT_MAP creada a partir de SOURCE_TO_CONCEPT_MAP.csv\n",
      "Tabla SPECIMEN creada a partir de SPECIMEN.csv\n",
      "Tabla VISIT_DETAIL creada a partir de VISIT_DETAIL.csv\n",
      "Tabla VISIT_OCCURRENCE creada a partir de VISIT_OCCURRENCE.csv\n",
      "Tabla VOCABULARY creada a partir de VOCABULARY.csv\n",
      "Base de datos creada en ./data/Synthea_BBDD\n"
     ]
    }
   ],
   "source": [
    "csv_folder = save_path + '/Synthea27Nj'\n",
    "db_path = save_path + 'Synthea_BBDD'\n",
    "peticiones.crear_bbdd_desde_csv(csv_folder, db_path)"
   ]
  },
  {
   "cell_type": "markdown",
   "metadata": {},
   "source": [
    "## Create cohorts and PLP study\n",
    "3 cohorts are created:\n",
    "\n",
    "### 1.- Target Cohort (Cohort of Interest):\n",
    "\n",
    "This is the group of patients who will be studied or for whom the prediction will be made. This group is defined by a set of conditions or characteristics.\n",
    "For example, you could have a cohort of people who are over 30 years old and have been diagnosed with diabetes.\n",
    "\n",
    "### 2.- Outcome Cohort:\n",
    "\n",
    "This is the clinical event you are trying to predict in the patients in the Target group. For example, whether a patient will be readmitted to the hospital within 30 days after discharge, or will develop a disease in the future.\n",
    "The “outcome” is binary in many cases (occurs or does not occur), but there may be different types of outcomes depending on the clinical problem.\n",
    "\n",
    "### 3.- Predictive Features:\n",
    "\n",
    "These are the patient characteristics (demographics, treatments, diagnoses, procedures, etc.) that are used to build the prediction model. These data are obtained from the patient's medical history and other relevant sources, such as sociodemographic information, previous procedures, drug exposures, etc.\n",
    "In PLP, these features are extracted directly from the OMOP database.\n",
    "\n",
    "### 4.- Predictive Model:\n",
    "\n",
    "The predictive model is the algorithm that attempts to learn a relationship between the predictor variables and the outcome. The most common algorithms in PLP include logistic regression models, decision trees, random forest, neural networks, among others.\n",
    "The model is trained using a historical cohort data set and then validated on a validation cohort data set to evaluate its performance.\n",
    "\n",
    "### 5.- Model Validation:\n",
    "\n",
    "Once the model has been trained, an evaluation is performed on an independent dataset to measure its performance. The most commonly used metrics in PLP include:\n",
    "AUC-ROC (Area Under the Receiver Operating Characteristic Curve): measures the model's ability to distinguish between different outcomes.\n",
    "Accuracy, Sensitivity, Specificity: evaluate how well the model predicts the expected outcomes.\n",
    "F1-score: measures the balance between accuracy and sensitivity."
   ]
  },
  {
   "cell_type": "code",
   "execution_count": 8,
   "metadata": {},
   "outputs": [
    {
     "ename": "TypeError",
     "evalue": "create_cohort() got an unexpected keyword argument 'target_tables'",
     "output_type": "error",
     "traceback": [
      "\u001b[1;31m---------------------------------------------------------------------------\u001b[0m",
      "\u001b[1;31mTypeError\u001b[0m                                 Traceback (most recent call last)",
      "Cell \u001b[1;32mIn[8], line 5\u001b[0m\n\u001b[0;32m      3\u001b[0m target_join_columns \u001b[38;5;241m=\u001b[39m [\u001b[38;5;124m'\u001b[39m\u001b[38;5;124mperson.person_id = VISIT_DETAIL.person_id\u001b[39m\u001b[38;5;124m'\u001b[39m]\n\u001b[0;32m      4\u001b[0m target_conditions \u001b[38;5;241m=\u001b[39m [\u001b[38;5;124m'\u001b[39m\u001b[38;5;124mperson.year_of_birth < 1990\u001b[39m\u001b[38;5;124m'\u001b[39m]  \u001b[38;5;66;03m# Ejemplo: personas mayores de 30 años\u001b[39;00m\n\u001b[1;32m----> 5\u001b[0m \u001b[43mcohortes\u001b[49m\u001b[38;5;241;43m.\u001b[39;49m\u001b[43mcreate_cohort\u001b[49m\u001b[43m(\u001b[49m\u001b[43mdb_path\u001b[49m\u001b[38;5;241;43m=\u001b[39;49m\u001b[43mdb_path\u001b[49m\u001b[43m,\u001b[49m\u001b[43m \u001b[49m\u001b[43mtarget_tables\u001b[49m\u001b[43m \u001b[49m\u001b[38;5;241;43m=\u001b[39;49m\u001b[43m \u001b[49m\u001b[43mtarget_tables\u001b[49m\u001b[43m \u001b[49m\u001b[43m,\u001b[49m\u001b[43m \u001b[49m\u001b[43mtarget_join_columns\u001b[49m\u001b[43m \u001b[49m\u001b[38;5;241;43m=\u001b[39;49m\u001b[43m \u001b[49m\u001b[43mtarget_join_columns\u001b[49m\u001b[43m,\u001b[49m\u001b[43m \u001b[49m\u001b[43mtarget_condition\u001b[49m\u001b[43m \u001b[49m\u001b[38;5;241;43m=\u001b[39;49m\u001b[43m \u001b[49m\u001b[43mtarget_conditions\u001b[49m\u001b[43m,\u001b[49m\u001b[43m \u001b[49m\u001b[43mcohort_name\u001b[49m\u001b[38;5;241;43m=\u001b[39;49m\u001b[38;5;124;43m'\u001b[39;49m\u001b[38;5;124;43mcohorte1\u001b[39;49m\u001b[38;5;124;43m'\u001b[39;49m\u001b[43m)\u001b[49m\n\u001b[0;32m      6\u001b[0m \u001b[38;5;66;03m# Parámetros para la cohorte outcome\u001b[39;00m\n\u001b[0;32m      7\u001b[0m outcome_tables \u001b[38;5;241m=\u001b[39m [\u001b[38;5;124m'\u001b[39m\u001b[38;5;124mperson\u001b[39m\u001b[38;5;124m'\u001b[39m, \u001b[38;5;124m'\u001b[39m\u001b[38;5;124mCONDITION_ERA\u001b[39m\u001b[38;5;124m'\u001b[39m, \u001b[38;5;124m'\u001b[39m\u001b[38;5;124mCONCEPT\u001b[39m\u001b[38;5;124m'\u001b[39m]\n",
      "\u001b[1;31mTypeError\u001b[0m: create_cohort() got an unexpected keyword argument 'target_tables'"
     ]
    }
   ],
   "source": [
    "# Parámetros para la cohorte target\n",
    "target_tables = ['person', 'VISIT_DETAIL']\n",
    "target_join_columns = ['person.person_id = VISIT_DETAIL.person_id']\n",
    "target_conditions = ['person.year_of_birth < 1990']  # Ejemplo: personas mayores de 30 años\n",
    "\n",
    "# Parámetros para la cohorte outcome\n",
    "outcome_tables = ['person', 'CONDITION_ERA', 'CONCEPT']\n",
    "outcome_join_columns = ['person.person_id = CONDITION_ERA.person_id', 'CONDITION_ERA.condition_concept_id = CONCEPT.concept_id']\n",
    "outcome_conditions = ['CONCEPT.concept_name = \\'Acute viral pharyngitis\\'']  # Ejemplo: pacientes con Acute viral pharyngitis\n",
    "\n",
    "cohortes.create_cohort(db_path = db_path, target_tables = target_tables , target_join_columns = target_join_columns, target_condition = target_conditions, cohort_name='cohorte1')\n",
    "\n",
    "# Parámetros para las características predictorias\n",
    "feature_tables = ['person', 'VISIT_DETAIL', 'DRUG_EXPOSURE']\n",
    "feature_join_columns = [\n",
    "    'person.person_id = VISIT_DETAIL.person_id',\n",
    "    'person.person_id = DRUG_EXPOSURE.person_id'\n",
    "]\n",
    "feature_conditions = ['VISIT_DETAIL.visit_detail_start_date BETWEEN \\'2019-01-01\\' AND \\'2023-01-01\\'']\n",
    "feature_columns = ['person.person_id', 'person.year_of_birth', 'VISIT_DETAIL.visit_detail_start_date', 'DRUG_EXPOSURE.drug_concept_id']\n",
    "\n",
    "# Definir tabla de outcome (target) y condiciones\n",
    "target_table = 'CONDITION_ERA'\n",
    "target_join_column = 'person.person_id = CONDITION_ERA.person_id'\n",
    "target_condition = 'CONDITION_ERA.condition_concept_id = 201826'  # Ejemplo: Diabetes Milletius de tipo 2\n",
    "\n",
    "# Ejecutar el PLP\n",
    "results = plp.run_plp_with_algorithms(db_path, target_tables, target_join_columns, target_conditions, outcome_tables, outcome_join_columns, outcome_conditions, \n",
    "                                  feature_tables, feature_join_columns, feature_conditions, feature_columns, target_table, target_join_column, target_condition)"
   ]
  },
  {
   "cell_type": "code",
   "execution_count": 3,
   "metadata": {},
   "outputs": [
    {
     "name": "stdout",
     "output_type": "stream",
     "text": [
      "**** RESUMEN DEL ESTUDIO PLP ****\n",
      "\n",
      "El estudio PLP ha sido realizado con el objetivo de predecir si un paciente será diagnosticado con la condición:\n",
      "  - CONDITION_ERA.condition_concept_id = 201826\n",
      "\n",
      "Características predictorias utilizadas en el estudio:\n",
      "  - person.person_id\n",
      "  - person.year_of_birth\n",
      "  - VISIT_DETAIL.visit_detail_start_date\n",
      "  - DRUG_EXPOSURE.drug_concept_id\n",
      "\n",
      "Se han entrenado y evaluado los siguientes modelos:\n",
      "\n",
      "Modelo: Decision Tree\n",
      "  - Precisión: 0.5656\n",
      "  - Reporte de clasificación:\n",
      "{'0': {'precision': 0.9994186046511628, 'recall': 0.5595789865294291, 'f1-score': 0.7174528723753117, 'support': 64511.0}, '1': {'precision': 0.031563160406299, 'recall': 0.9778247096092925, 'f1-score': 0.06115238566947335, 'support': 947.0}, 'accuracy': 0.5656298695346634, 'macro avg': {'precision': 0.5154908825287309, 'recall': 0.7687018480693608, 'f1-score': 0.38930262902239254, 'support': 65458.0}, 'weighted avg': {'precision': 0.9854163573215793, 'recall': 0.5656298695346634, 'f1-score': 0.7079579815917493, 'support': 65458.0}}\n",
      "\n",
      "Modelo: Random Forest\n",
      "  - Precisión: 0.5717\n",
      "  - Reporte de clasificación:\n",
      "{'0': {'precision': 0.9987148638302527, 'recall': 0.566182511509665, 'f1-score': 0.7226734465736079, 'support': 64511.0}, '1': {'precision': 0.031156961850031157, 'recall': 0.9503695881731784, 'f1-score': 0.0603358696745215, 'support': 947.0}, 'accuracy': 0.571740658131932, 'macro avg': {'precision': 0.514935912840142, 'recall': 0.7582760498414217, 'f1-score': 0.3915046581240647, 'support': 65458.0}, 'weighted avg': {'precision': 0.9847169211314951, 'recall': 0.571740658131932, 'f1-score': 0.7130912154433651, 'support': 65458.0}}\n",
      "\n",
      "Modelo: Logistic Regression\n",
      "  - Precisión: 0.0145\n",
      "  - Reporte de clasificación:\n",
      "{'0': {'precision': 1.0, 'recall': 1.5501232347971662e-05, 'f1-score': 3.1001984126984125e-05, 'support': 64511.0}, '1': {'precision': 0.014467513023817163, 'recall': 1.0, 'f1-score': 0.02852237816998976, 'support': 947.0}, 'accuracy': 0.014482568975526291, 'macro avg': {'precision': 0.5072337565119086, 'recall': 0.500007750616174, 'f1-score': 0.014276690077058372, 'support': 65458.0}, 'weighted avg': {'precision': 0.9857420137314545, 'recall': 0.014482568975526291, 'f1-score': 0.0004431950430046163, 'support': 65458.0}}\n",
      "\n",
      "**** ANÁLISIS DE RESULTADOS ****\n",
      "\n",
      "Interpretación de las métricas de rendimiento:\n",
      "- **Precisión (Accuracy)**: Representa la proporción de predicciones correctas. Un valor cercano a 1.0 indica que el modelo realiza buenas predicciones en la mayoría de los casos.\n",
      "- **Recall**: Mide cuántos de los verdaderos positivos fueron correctamente identificados. Un valor alto de recall indica que el modelo detecta correctamente una gran parte de los casos positivos.\n",
      "- **Precisión (Precision)**: Mide la proporción de verdaderos positivos entre todas las predicciones positivas. Un valor alto significa que el modelo tiene una baja tasa de falsos positivos.\n",
      "- **F1-Score**: Es la media armónica de la precisión y el recall, y es útil cuando se busca un equilibrio entre estos dos. Un valor alto de F1-score indica un buen equilibrio entre precisión y recall.\n",
      "\n",
      "**Análisis comparativo de los modelos:**\n",
      "\n",
      "Modelo: Decision Tree\n",
      "  - Rendimiento general: La precisión del modelo es de 0.5656.\n",
      "    El valor de precisión es aceptable, pero se podría mejorar con ajustes adicionales al modelo o los datos.\n",
      "  - F1-Score para los casos positivos: 0.0612\n",
      "    Un F1-Score bajo indica que el modelo tiene dificultades para equilibrar precisión y recall en los casos positivos.\n",
      "\n",
      "Modelo: Random Forest\n",
      "  - Rendimiento general: La precisión del modelo es de 0.5717.\n",
      "    El valor de precisión es aceptable, pero se podría mejorar con ajustes adicionales al modelo o los datos.\n",
      "  - F1-Score para los casos positivos: 0.0603\n",
      "    Un F1-Score bajo indica que el modelo tiene dificultades para equilibrar precisión y recall en los casos positivos.\n",
      "\n",
      "Modelo: Logistic Regression\n",
      "  - Rendimiento general: La precisión del modelo es de 0.0145.\n",
      "    El valor de precisión es aceptable, pero se podría mejorar con ajustes adicionales al modelo o los datos.\n",
      "  - F1-Score para los casos positivos: 0.0285\n",
      "    Un F1-Score bajo indica que el modelo tiene dificultades para equilibrar precisión y recall en los casos positivos.\n",
      "\n",
      "Conclusión general:\n",
      "Los resultados muestran que algunos modelos, como el Árbol de Decisión o el Bosque Aleatorio, tienen un buen rendimiento con una precisión y F1-Score elevados. Sin embargo, otros modelos pueden requerir ajustes adicionales en los hiperparámetros o más datos para mejorar su rendimiento.\n"
     ]
    }
   ],
   "source": [
    "miscelania.print_study_summary(feature_columns, target_condition, results)"
   ]
  }
 ],
 "metadata": {
  "kernelspec": {
   "display_name": ".venv",
   "language": "python",
   "name": "python3"
  },
  "language_info": {
   "codemirror_mode": {
    "name": "ipython",
    "version": 3
   },
   "file_extension": ".py",
   "mimetype": "text/x-python",
   "name": "python",
   "nbconvert_exporter": "python",
   "pygments_lexer": "ipython3",
   "version": "3.10.9"
  }
 },
 "nbformat": 4,
 "nbformat_minor": 2
}
